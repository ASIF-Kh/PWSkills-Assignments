{
 "cells": [
  {
   "cell_type": "markdown",
   "id": "221c53a6",
   "metadata": {},
   "source": [
    "### Q1. Create one variable containing following type of data:\n",
    "(i) string\n",
    "(ii) list\n",
    "(iii) float\n",
    "(iv) tuple"
   ]
  },
  {
   "cell_type": "code",
   "execution_count": 3,
   "id": "392a37b0",
   "metadata": {},
   "outputs": [],
   "source": [
    "z=\"Asif\"\n",
    "lis=[1,2,3,4]\n",
    "f=1.02\n",
    "tu=(1234)"
   ]
  },
  {
   "cell_type": "markdown",
   "id": "c3959225",
   "metadata": {},
   "source": [
    "### Q2. Given are some following variables containing data:\n",
    "#### (i) var1 = ‘ ‘\n",
    "     string\n",
    "#### (ii) var2 = ‘[ DS , ML , Python]’ \n",
    "        list\n",
    "#### (iii) var3 = [ ‘DS’ , ’ML’ , ‘Python’ ]\n",
    "        list\n",
    "#### (iv) var4 = 1.\n",
    "          integer\n",
    "#### What will be the data type of the above given variable."
   ]
  },
  {
   "cell_type": "markdown",
   "id": "b6b4fc02",
   "metadata": {},
   "source": [
    "###  Q3. Explain the use of the following operators using an example:\n",
    "(i) /\n",
    "(ii) %\n",
    "(iii) //\n",
    "(iv) **"
   ]
  },
  {
   "cell_type": "code",
   "execution_count": 5,
   "id": "f95dc023",
   "metadata": {},
   "outputs": [
    {
     "name": "stdout",
     "output_type": "stream",
     "text": [
      "2.5\n",
      "1\n",
      "2\n",
      "25\n"
     ]
    }
   ],
   "source": [
    "#(i) / : divide operator\n",
    "div=5/2\n",
    "print(div)\n",
    "#(ii) % : modulas operator give remainder\n",
    "mod=5%2\n",
    "print(mod)\n",
    "#(iii) // : floor division give division result to nearest integer\n",
    "fd=5//2\n",
    "print(fd)\n",
    "#(iv) ** : exponenet operator\n",
    "exp=5**2\n",
    "print(exp)"
   ]
  },
  {
   "cell_type": "markdown",
   "id": "ab02f32d",
   "metadata": {},
   "source": [
    "### Q4. Create a list of length 10 of your choice containing multiple types of data. Using for loop print the element and its data type."
   ]
  },
  {
   "cell_type": "code",
   "execution_count": 8,
   "id": "e0ad8b05",
   "metadata": {},
   "outputs": [
    {
     "name": "stdout",
     "output_type": "stream",
     "text": [
      "1\n",
      "Hello\n",
      "2.5\n",
      "45\n",
      "(45+3j)\n",
      "[1, 23]\n",
      "{11, 2, 3}\n",
      "(4, 6, 8)\n",
      "bue\n",
      "banana\n"
     ]
    }
   ],
   "source": [
    "lis=[1,\"Hello\",2.5,45,45+3j,[1,23],{11,2,3},(4,6,8),\"bue\",\"banana\"]\n",
    "for i in lis:\n",
    "    print(i)"
   ]
  },
  {
   "cell_type": "markdown",
   "id": "665b78c8",
   "metadata": {},
   "source": [
    "### Q5. Using a while loop, verify if the number A is purely divisible by number B and if so then how many times it can be divisible."
   ]
  },
  {
   "cell_type": "code",
   "execution_count": 13,
   "id": "87fb54c1",
   "metadata": {},
   "outputs": [
    {
     "name": "stdout",
     "output_type": "stream",
     "text": [
      "Enter number A: 100\n",
      "Enter number B: 5\n",
      "Number A is divisible by number B.\n",
      "It can be divided 2 times.\n"
     ]
    }
   ],
   "source": [
    "A = int(input(\"Enter number A: \"))\n",
    "B = int(input(\"Enter number B: \"))\n",
    "\n",
    "count = 0\n",
    "while A % B == 0:\n",
    "    A = A / B\n",
    "    count += 1\n",
    "\n",
    "if count > 0:\n",
    "    print(\"Number A is divisible by number B.\")\n",
    "    print(\"It can be divided\", count, \"times.\")\n",
    "else:\n",
    "    print(\"Number A is not divisible by number B.\")\n",
    "\n"
   ]
  },
  {
   "cell_type": "markdown",
   "id": "20591c07",
   "metadata": {},
   "source": [
    "### Q6. Create a list containing 25 int type data. Using for loop and if-else condition print if the element is divisible by 3 or not."
   ]
  },
  {
   "cell_type": "code",
   "execution_count": 14,
   "id": "cfab0f74",
   "metadata": {},
   "outputs": [
    {
     "name": "stdout",
     "output_type": "stream",
     "text": [
      "11 is not divisible by 3\n",
      "22 is not divisible by 3\n",
      "33 is divisible by 3\n",
      "44 is not divisible by 3\n",
      "55 is not divisible by 3\n",
      "66 is divisible by 3\n",
      "77 is not divisible by 3\n",
      "88 is not divisible by 3\n",
      "99 is divisible by 3\n",
      "110 is not divisible by 3\n",
      "121 is not divisible by 3\n",
      "132 is divisible by 3\n",
      "143 is not divisible by 3\n",
      "154 is not divisible by 3\n",
      "165 is divisible by 3\n",
      "176 is not divisible by 3\n",
      "187 is not divisible by 3\n",
      "198 is divisible by 3\n",
      "209 is not divisible by 3\n",
      "220 is not divisible by 3\n",
      "231 is divisible by 3\n",
      "242 is not divisible by 3\n",
      "253 is not divisible by 3\n",
      "264 is divisible by 3\n",
      "275 is not divisible by 3\n"
     ]
    }
   ],
   "source": [
    "# Create a list of 25 integers\n",
    "numbers = [11, 22, 33, 44, 55, 66, 77, 88, 99, 110, 121, 132, 143, 154, 165, 176, 187, 198, 209, 220, 231, 242, 253, 264, 275]\n",
    "\n",
    "# Loop through the elements of the list\n",
    "for number in numbers:\n",
    "    # Check if the number is divisible by 3\n",
    "    if number % 3 == 0:\n",
    "        print(f\"{number} is divisible by 3\")\n",
    "    else:\n",
    "        print(f\"{number} is not divisible by 3\")\n"
   ]
  },
  {
   "cell_type": "markdown",
   "id": "894d2d71",
   "metadata": {},
   "source": [
    "### Q7 What do you understand about mutable and immutable data types? Give examples for both showing this property.\n",
    "#### Mutable: Data types which can be changed after being created eg list\n",
    "#### Immutable: Data types which can't be changed after being created e.g string, tuble"
   ]
  },
  {
   "cell_type": "code",
   "execution_count": 15,
   "id": "3cdd319c",
   "metadata": {},
   "outputs": [
    {
     "name": "stdout",
     "output_type": "stream",
     "text": [
      "[1, 2, 3, 5]\n"
     ]
    }
   ],
   "source": [
    "#mutable\n",
    "lis=[1,2,3,4]\n",
    "lis[3]=5\n",
    "print(lis)"
   ]
  },
  {
   "cell_type": "code",
   "execution_count": 17,
   "id": "398e3c2b",
   "metadata": {},
   "outputs": [
    {
     "ename": "TypeError",
     "evalue": "'tuple' object does not support item assignment",
     "output_type": "error",
     "traceback": [
      "\u001b[0;31m---------------------------------------------------------------------------\u001b[0m",
      "\u001b[0;31mTypeError\u001b[0m                                 Traceback (most recent call last)",
      "Cell \u001b[0;32mIn[17], line 3\u001b[0m\n\u001b[1;32m      1\u001b[0m \u001b[38;5;66;03m#immutable\u001b[39;00m\n\u001b[1;32m      2\u001b[0m tup\u001b[38;5;241m=\u001b[39m(\u001b[38;5;241m1\u001b[39m,\u001b[38;5;241m2\u001b[39m,\u001b[38;5;241m3\u001b[39m,\u001b[38;5;241m4\u001b[39m)\n\u001b[0;32m----> 3\u001b[0m \u001b[43mtup\u001b[49m\u001b[43m[\u001b[49m\u001b[38;5;241;43m3\u001b[39;49m\u001b[43m]\u001b[49m\u001b[38;5;241m=\u001b[39m\u001b[38;5;241m5\u001b[39m\n",
      "\u001b[0;31mTypeError\u001b[0m: 'tuple' object does not support item assignment"
     ]
    }
   ],
   "source": [
    "#immutable\n",
    "tup=(1,2,3,4)\n",
    "tup[3]=5 # this give error"
   ]
  },
  {
   "cell_type": "code",
   "execution_count": null,
   "id": "a0ce20f1",
   "metadata": {},
   "outputs": [],
   "source": []
  }
 ],
 "metadata": {
  "kernelspec": {
   "display_name": "Python 3 (ipykernel)",
   "language": "python",
   "name": "python3"
  },
  "language_info": {
   "codemirror_mode": {
    "name": "ipython",
    "version": 3
   },
   "file_extension": ".py",
   "mimetype": "text/x-python",
   "name": "python",
   "nbconvert_exporter": "python",
   "pygments_lexer": "ipython3",
   "version": "3.11.3"
  }
 },
 "nbformat": 4,
 "nbformat_minor": 5
}
